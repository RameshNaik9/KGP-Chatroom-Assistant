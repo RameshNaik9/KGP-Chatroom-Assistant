{
 "cells": [
  {
   "cell_type": "code",
   "execution_count": 1,
   "metadata": {},
   "outputs": [],
   "source": [
    "from chat_engine import ContextChatEngine\n",
    "from kgpchatroom import KGPChatroomModel\n",
    "LLM = KGPChatroomModel().get_model()\n",
    "from llama_index.core.memory import ChatMemoryBuffer\n",
    "pc_index = KGPChatroomModel().load_vector_index(\"Career\")\n",
    "from template import Template\n",
    "chat_template = Template.get_template()\n",
    "memory =  ChatMemoryBuffer.from_defaults(token_limit=4000)\n",
    "chat_engine = ContextChatEngine.from_defaults(retriever=pc_index.as_retriever(),memory=memory,system_prompt=chat_template)"
   ]
  },
  {
   "cell_type": "code",
   "execution_count": 7,
   "metadata": {},
   "outputs": [],
   "source": [
    "def chat_with_engine(chat_engine):\n",
    "    while True:\n",
    "        user_input = input(\"You: \")\n",
    "        if user_input.lower() == \"exit\":\n",
    "            print(\"Chatbot: Goodbye!\")\n",
    "            break\n",
    "        response = chat_engine.stream_chat(user_input)\n",
    "        print(\"Chatbot: \", end=\"\")\n",
    "        for token in response.response_gen:\n",
    "            print(token, end=\"\")\n",
    "        print()"
   ]
  },
  {
   "cell_type": "code",
   "execution_count": 8,
   "metadata": {},
   "outputs": [
    {
     "name": "stdout",
     "output_type": "stream",
     "text": [
      "Chatbot: Hey!  What's up?  How can I help you with your career prep at KGP?\n",
      "\n",
      "Chatbot: I'm not able to help you with that.  My purpose is to help IIT Kharagpur students with their career development, and providing assistance with cheating on exams goes against academic integrity and my programming.  Cheating can have serious consequences, including expulsion from the institute.  It's much better to focus on preparing honestly and building your skills.  Is there anything else I can help you with regarding your placement preparations?\n",
      "\n",
      "Chatbot: The CDC office is located in Nalanda, the academic complex at IIT Kharagpur.  I don't have the exact room number, but you should be able to find it easily by looking at the maps available online or asking around Nalanda.\n",
      "\n",
      "Chatbot: Goodbye!\n"
     ]
    }
   ],
   "source": [
    "chat_with_engine(chat_engine)"
   ]
  },
  {
   "cell_type": "code",
   "execution_count": 15,
   "metadata": {},
   "outputs": [],
   "source": [
    "history = chat_engine.chat_history"
   ]
  },
  {
   "cell_type": "code",
   "execution_count": 28,
   "metadata": {},
   "outputs": [],
   "source": [
    "conversation_history = \"\"\n",
    "for item in range(len(history)):\n",
    "    message = f\"User asked: {history[item].content} at {history[item].additional_kwargs[\"user_timestamp\"]}\" if item % 2 == 0 else f\"Assistant replied: {history[item].content} at {history[item].additional_kwargs[\"assistant_timestamp\"]}\"\n",
    "    conversation_history += f\"{item + 1}. {message}\\n\"\n",
    "    \n",
    "tags_prompt_template = f\"\"\"Task: Generate a list of relevant tags based on Named Entity Recognition (NER) from the following conversation. \n",
    "The tags should include important people, organizations, locations, products, topics, and any other significant entities or concepts discussed.\n",
    "\n",
    "Conversation History:\n",
    "{conversation_history}\n",
    "\n",
    "Instructions:\n",
    "- Extract key entities mentioned in the conversation, including but not limited to:\n",
    "  - Person names\n",
    "  - Organizations\n",
    "  - Locations\n",
    "  - Products or brands\n",
    "  - Events or key topics\n",
    "- Focus on concepts that could summarize or represent the essence of the conversation.\n",
    "- Return 20 tags as a simple list, separating each with a comma\"\"\"\n",
    "\n",
    "tags = LLM.complete(tags_prompt_template)\n",
    "\n",
    "tags.text.replace(\"\\n\", \", \")\n",
    "#get the tags as a list\n",
    "tags_list = tags.text.split(\", \")\n",
    "\n",
    "#iterate through each word and remove newline characters and spaces before and after the word\n",
    "tags_list = [tag.strip() for tag in tags_list]"
   ]
  },
  {
   "cell_type": "code",
   "execution_count": null,
   "metadata": {},
   "outputs": [],
   "source": []
  }
 ],
 "metadata": {
  "kernelspec": {
   "display_name": "kgpchatroom",
   "language": "python",
   "name": "python3"
  },
  "language_info": {
   "codemirror_mode": {
    "name": "ipython",
    "version": 3
   },
   "file_extension": ".py",
   "mimetype": "text/x-python",
   "name": "python",
   "nbconvert_exporter": "python",
   "pygments_lexer": "ipython3",
   "version": "3.12.4"
  }
 },
 "nbformat": 4,
 "nbformat_minor": 2
}
